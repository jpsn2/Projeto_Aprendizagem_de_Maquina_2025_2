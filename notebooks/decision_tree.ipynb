{
 "cells": [
  {
   "cell_type": "markdown",
   "id": "34132756",
   "metadata": {},
   "source": [
    "# Imports"
   ]
  },
  {
   "cell_type": "code",
   "execution_count": 58,
   "id": "4f297fe1",
   "metadata": {},
   "outputs": [],
   "source": [
    "import pandas as pd\n",
    "import os\n",
    "import matplotlib.pyplot as plt\n",
    "import seaborn as sns"
   ]
  },
  {
   "cell_type": "markdown",
   "id": "930ea579",
   "metadata": {},
   "source": [
    "# Leitura do dataset"
   ]
  },
  {
   "cell_type": "code",
   "execution_count": 49,
   "id": "0026e77b",
   "metadata": {},
   "outputs": [
    {
     "name": "stdout",
     "output_type": "stream",
     "text": [
      "           0   1     2   3     4   5     6   7     8   9    10  11   12  13  \\\n",
      "0  ADT1_YEAST NaN  0.58 NaN  0.61 NaN  0.47 NaN  0.13 NaN  0.5 NaN  0.0 NaN   \n",
      "1  ADT2_YEAST NaN  0.43 NaN  0.67 NaN  0.48 NaN  0.27 NaN  0.5 NaN  0.0 NaN   \n",
      "2  ADT3_YEAST NaN  0.64 NaN  0.62 NaN  0.49 NaN  0.15 NaN  0.5 NaN  0.0 NaN   \n",
      "3  AAR2_YEAST NaN  0.58 NaN  0.44 NaN  0.57 NaN  0.13 NaN  0.5 NaN  0.0 NaN   \n",
      "4  AATM_YEAST NaN  0.42 NaN  0.44 NaN  0.48 NaN  0.54 NaN  0.5 NaN  0.0 NaN   \n",
      "\n",
      "     14  15    16  17   18  \n",
      "0  0.48 NaN  0.22 NaN  MIT  \n",
      "1  0.53 NaN  0.22 NaN  MIT  \n",
      "2  0.53 NaN  0.22 NaN  MIT  \n",
      "3  0.54 NaN  0.22 NaN  NUC  \n",
      "4  0.48 NaN  0.22 NaN  MIT  \n"
     ]
    }
   ],
   "source": [
    "df = pd.read_csv('../dataset/yeast.data', \n",
    "        sep=' ',\n",
    "        engine=\"python\",    # necessário para autodetectar separador\n",
    "        comment=\"#\",        # ignora linhas que começam com #\n",
    "        header=None,        # caso não haja cabeçalho\n",
    "        encoding=\"utf-8\",   # padrão moderno\n",
    "        on_bad_lines=\"skip\" # ignora linhas com problemas\n",
    "    )\n",
    "\n",
    "try:\n",
    "    print(df.head())\n",
    "except Exception as e:\n",
    "    print(\"Erro ao ler arquivo:\", e)"
   ]
  },
  {
   "cell_type": "markdown",
   "id": "25e06c50",
   "metadata": {},
   "source": [
    "## Verificação da quantidade de linhas e colunas"
   ]
  },
  {
   "cell_type": "code",
   "execution_count": 50,
   "id": "4f0b414e",
   "metadata": {},
   "outputs": [
    {
     "data": {
      "text/plain": [
       "(1418, 19)"
      ]
     },
     "execution_count": 50,
     "metadata": {},
     "output_type": "execute_result"
    }
   ],
   "source": [
    "df.shape"
   ]
  },
  {
   "cell_type": "markdown",
   "id": "b29e5e44",
   "metadata": {},
   "source": [
    "## Drop de colunas com valores NaN"
   ]
  },
  {
   "cell_type": "code",
   "execution_count": 51,
   "id": "443f25b3",
   "metadata": {},
   "outputs": [],
   "source": [
    "df = df.dropna(axis=1, how='all')"
   ]
  },
  {
   "cell_type": "code",
   "execution_count": 52,
   "id": "fc085855",
   "metadata": {},
   "outputs": [
    {
     "data": {
      "text/html": [
       "<div>\n",
       "<style scoped>\n",
       "    .dataframe tbody tr th:only-of-type {\n",
       "        vertical-align: middle;\n",
       "    }\n",
       "\n",
       "    .dataframe tbody tr th {\n",
       "        vertical-align: top;\n",
       "    }\n",
       "\n",
       "    .dataframe thead th {\n",
       "        text-align: right;\n",
       "    }\n",
       "</style>\n",
       "<table border=\"1\" class=\"dataframe\">\n",
       "  <thead>\n",
       "    <tr style=\"text-align: right;\">\n",
       "      <th></th>\n",
       "      <th>0</th>\n",
       "      <th>2</th>\n",
       "      <th>4</th>\n",
       "      <th>6</th>\n",
       "      <th>8</th>\n",
       "      <th>10</th>\n",
       "      <th>12</th>\n",
       "      <th>14</th>\n",
       "      <th>16</th>\n",
       "      <th>18</th>\n",
       "    </tr>\n",
       "  </thead>\n",
       "  <tbody>\n",
       "    <tr>\n",
       "      <th>0</th>\n",
       "      <td>ADT1_YEAST</td>\n",
       "      <td>0.58</td>\n",
       "      <td>0.61</td>\n",
       "      <td>0.47</td>\n",
       "      <td>0.13</td>\n",
       "      <td>0.5</td>\n",
       "      <td>0.0</td>\n",
       "      <td>0.48</td>\n",
       "      <td>0.22</td>\n",
       "      <td>MIT</td>\n",
       "    </tr>\n",
       "    <tr>\n",
       "      <th>1</th>\n",
       "      <td>ADT2_YEAST</td>\n",
       "      <td>0.43</td>\n",
       "      <td>0.67</td>\n",
       "      <td>0.48</td>\n",
       "      <td>0.27</td>\n",
       "      <td>0.5</td>\n",
       "      <td>0.0</td>\n",
       "      <td>0.53</td>\n",
       "      <td>0.22</td>\n",
       "      <td>MIT</td>\n",
       "    </tr>\n",
       "    <tr>\n",
       "      <th>2</th>\n",
       "      <td>ADT3_YEAST</td>\n",
       "      <td>0.64</td>\n",
       "      <td>0.62</td>\n",
       "      <td>0.49</td>\n",
       "      <td>0.15</td>\n",
       "      <td>0.5</td>\n",
       "      <td>0.0</td>\n",
       "      <td>0.53</td>\n",
       "      <td>0.22</td>\n",
       "      <td>MIT</td>\n",
       "    </tr>\n",
       "    <tr>\n",
       "      <th>3</th>\n",
       "      <td>AAR2_YEAST</td>\n",
       "      <td>0.58</td>\n",
       "      <td>0.44</td>\n",
       "      <td>0.57</td>\n",
       "      <td>0.13</td>\n",
       "      <td>0.5</td>\n",
       "      <td>0.0</td>\n",
       "      <td>0.54</td>\n",
       "      <td>0.22</td>\n",
       "      <td>NUC</td>\n",
       "    </tr>\n",
       "    <tr>\n",
       "      <th>4</th>\n",
       "      <td>AATM_YEAST</td>\n",
       "      <td>0.42</td>\n",
       "      <td>0.44</td>\n",
       "      <td>0.48</td>\n",
       "      <td>0.54</td>\n",
       "      <td>0.5</td>\n",
       "      <td>0.0</td>\n",
       "      <td>0.48</td>\n",
       "      <td>0.22</td>\n",
       "      <td>MIT</td>\n",
       "    </tr>\n",
       "  </tbody>\n",
       "</table>\n",
       "</div>"
      ],
      "text/plain": [
       "           0     2     4     6     8    10   12    14    16   18\n",
       "0  ADT1_YEAST  0.58  0.61  0.47  0.13  0.5  0.0  0.48  0.22  MIT\n",
       "1  ADT2_YEAST  0.43  0.67  0.48  0.27  0.5  0.0  0.53  0.22  MIT\n",
       "2  ADT3_YEAST  0.64  0.62  0.49  0.15  0.5  0.0  0.53  0.22  MIT\n",
       "3  AAR2_YEAST  0.58  0.44  0.57  0.13  0.5  0.0  0.54  0.22  NUC\n",
       "4  AATM_YEAST  0.42  0.44  0.48  0.54  0.5  0.0  0.48  0.22  MIT"
      ]
     },
     "execution_count": 52,
     "metadata": {},
     "output_type": "execute_result"
    }
   ],
   "source": [
    "df.head()"
   ]
  },
  {
   "cell_type": "markdown",
   "id": "7890ccfd",
   "metadata": {},
   "source": [
    "## Renomeando as colunas, e retirando as antigas sem nome"
   ]
  },
  {
   "cell_type": "code",
   "execution_count": 53,
   "id": "e9be9eac",
   "metadata": {},
   "outputs": [],
   "source": [
    "df['mcg'] = df[2]\n",
    "df['gvh'] = df[4]\n",
    "df['alm'] = df[6]\n",
    "df['mit'] = df[8]\n",
    "df['erl'] = df[10]\n",
    "df['pox'] = df[12]\n",
    "df['vac'] = df[14]\n",
    "df['nuc'] = df[16]\n",
    "df['Localization site'] = df[18]"
   ]
  },
  {
   "cell_type": "code",
   "execution_count": 54,
   "id": "2df16fec",
   "metadata": {},
   "outputs": [],
   "source": [
    "df = df.drop(columns=[0])\n",
    "df = df.drop(columns=[2])\n",
    "df = df.drop(columns=[4])\n",
    "df = df.drop(columns=[6])\n",
    "df = df.drop(columns=[8])\n",
    "df = df.drop(columns=[10])\n",
    "df = df.drop(columns=[12])\n",
    "df = df.drop(columns=[14])\n",
    "df = df.drop(columns=[16])\n",
    "df = df.drop(columns=[18])"
   ]
  },
  {
   "cell_type": "code",
   "execution_count": 55,
   "id": "e737e66a",
   "metadata": {},
   "outputs": [
    {
     "data": {
      "text/html": [
       "<div>\n",
       "<style scoped>\n",
       "    .dataframe tbody tr th:only-of-type {\n",
       "        vertical-align: middle;\n",
       "    }\n",
       "\n",
       "    .dataframe tbody tr th {\n",
       "        vertical-align: top;\n",
       "    }\n",
       "\n",
       "    .dataframe thead th {\n",
       "        text-align: right;\n",
       "    }\n",
       "</style>\n",
       "<table border=\"1\" class=\"dataframe\">\n",
       "  <thead>\n",
       "    <tr style=\"text-align: right;\">\n",
       "      <th></th>\n",
       "      <th>mcg</th>\n",
       "      <th>gvh</th>\n",
       "      <th>alm</th>\n",
       "      <th>mit</th>\n",
       "      <th>erl</th>\n",
       "      <th>pox</th>\n",
       "      <th>vac</th>\n",
       "      <th>nuc</th>\n",
       "      <th>Localization site</th>\n",
       "    </tr>\n",
       "  </thead>\n",
       "  <tbody>\n",
       "    <tr>\n",
       "      <th>0</th>\n",
       "      <td>0.58</td>\n",
       "      <td>0.61</td>\n",
       "      <td>0.47</td>\n",
       "      <td>0.13</td>\n",
       "      <td>0.5</td>\n",
       "      <td>0.0</td>\n",
       "      <td>0.48</td>\n",
       "      <td>0.22</td>\n",
       "      <td>MIT</td>\n",
       "    </tr>\n",
       "    <tr>\n",
       "      <th>1</th>\n",
       "      <td>0.43</td>\n",
       "      <td>0.67</td>\n",
       "      <td>0.48</td>\n",
       "      <td>0.27</td>\n",
       "      <td>0.5</td>\n",
       "      <td>0.0</td>\n",
       "      <td>0.53</td>\n",
       "      <td>0.22</td>\n",
       "      <td>MIT</td>\n",
       "    </tr>\n",
       "    <tr>\n",
       "      <th>2</th>\n",
       "      <td>0.64</td>\n",
       "      <td>0.62</td>\n",
       "      <td>0.49</td>\n",
       "      <td>0.15</td>\n",
       "      <td>0.5</td>\n",
       "      <td>0.0</td>\n",
       "      <td>0.53</td>\n",
       "      <td>0.22</td>\n",
       "      <td>MIT</td>\n",
       "    </tr>\n",
       "    <tr>\n",
       "      <th>3</th>\n",
       "      <td>0.58</td>\n",
       "      <td>0.44</td>\n",
       "      <td>0.57</td>\n",
       "      <td>0.13</td>\n",
       "      <td>0.5</td>\n",
       "      <td>0.0</td>\n",
       "      <td>0.54</td>\n",
       "      <td>0.22</td>\n",
       "      <td>NUC</td>\n",
       "    </tr>\n",
       "    <tr>\n",
       "      <th>4</th>\n",
       "      <td>0.42</td>\n",
       "      <td>0.44</td>\n",
       "      <td>0.48</td>\n",
       "      <td>0.54</td>\n",
       "      <td>0.5</td>\n",
       "      <td>0.0</td>\n",
       "      <td>0.48</td>\n",
       "      <td>0.22</td>\n",
       "      <td>MIT</td>\n",
       "    </tr>\n",
       "  </tbody>\n",
       "</table>\n",
       "</div>"
      ],
      "text/plain": [
       "    mcg   gvh   alm   mit  erl  pox   vac   nuc Localization site\n",
       "0  0.58  0.61  0.47  0.13  0.5  0.0  0.48  0.22               MIT\n",
       "1  0.43  0.67  0.48  0.27  0.5  0.0  0.53  0.22               MIT\n",
       "2  0.64  0.62  0.49  0.15  0.5  0.0  0.53  0.22               MIT\n",
       "3  0.58  0.44  0.57  0.13  0.5  0.0  0.54  0.22               NUC\n",
       "4  0.42  0.44  0.48  0.54  0.5  0.0  0.48  0.22               MIT"
      ]
     },
     "execution_count": 55,
     "metadata": {},
     "output_type": "execute_result"
    }
   ],
   "source": [
    "df.head()"
   ]
  },
  {
   "cell_type": "code",
   "execution_count": 56,
   "id": "10b11a79",
   "metadata": {},
   "outputs": [
    {
     "data": {
      "text/plain": [
       "(1418, 9)"
      ]
     },
     "execution_count": 56,
     "metadata": {},
     "output_type": "execute_result"
    }
   ],
   "source": [
    "df.shape"
   ]
  }
 ],
 "metadata": {
  "kernelspec": {
   "display_name": "Python 3",
   "language": "python",
   "name": "python3"
  },
  "language_info": {
   "codemirror_mode": {
    "name": "ipython",
    "version": 3
   },
   "file_extension": ".py",
   "mimetype": "text/x-python",
   "name": "python",
   "nbconvert_exporter": "python",
   "pygments_lexer": "ipython3",
   "version": "3.13.7"
  }
 },
 "nbformat": 4,
 "nbformat_minor": 5
}
